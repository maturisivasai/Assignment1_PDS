{
  "nbformat": 4,
  "nbformat_minor": 0,
  "metadata": {
    "colab": {
      "provenance": []
    },
    "kernelspec": {
      "name": "python3",
      "display_name": "Python 3"
    },
    "language_info": {
      "name": "python"
    }
  },
  "cells": [
    {
      "cell_type": "code",
      "execution_count": 4,
      "metadata": {
        "colab": {
          "base_uri": "https://localhost:8080/"
        },
        "id": "SGm9R3pWfzH3",
        "outputId": "358a2882-0bd5-4e11-9d7e-ea93911f8132"
      },
      "outputs": [
        {
          "output_type": "stream",
          "name": "stdout",
          "text": [
            "Requirement already satisfied: pyspark in /usr/local/lib/python3.10/dist-packages (3.5.0)\n",
            "Requirement already satisfied: py4j==0.10.9.7 in /usr/local/lib/python3.10/dist-packages (from pyspark) (0.10.9.7)\n"
          ]
        }
      ],
      "source": [
        "!pip install pyspark"
      ]
    },
    {
      "cell_type": "code",
      "source": [
        "import pandas as pd\n",
        "\n",
        "file_path = '/content/sample_data/data1.csv'\n",
        "df1 = pd.read_csv(file_path)"
      ],
      "metadata": {
        "id": "jlv161mzf5az"
      },
      "execution_count": 35,
      "outputs": []
    },
    {
      "cell_type": "code",
      "source": [
        "df1.info()"
      ],
      "metadata": {
        "colab": {
          "base_uri": "https://localhost:8080/"
        },
        "id": "-M3CFzfGf8EV",
        "outputId": "8832fb65-fc61-4ee6-9f8a-35c311d4b098"
      },
      "execution_count": 36,
      "outputs": [
        {
          "output_type": "stream",
          "name": "stdout",
          "text": [
            "<class 'pandas.core.frame.DataFrame'>\n",
            "RangeIndex: 10 entries, 0 to 9\n",
            "Data columns (total 5 columns):\n",
            " #   Column         Non-Null Count  Dtype  \n",
            "---  ------         --------------  -----  \n",
            " 0   Height         10 non-null     float64\n",
            " 1   Weight         10 non-null     int64  \n",
            " 2   Age            10 non-null     int64  \n",
            " 3   Grip strength  10 non-null     int64  \n",
            " 4   Frailty        10 non-null     object \n",
            "dtypes: float64(1), int64(3), object(1)\n",
            "memory usage: 528.0+ bytes\n"
          ]
        }
      ]
    },
    {
      "cell_type": "code",
      "source": [
        "df11 = df1.dropna()\n",
        "df11.to_csv('clean_data1.csv', index=False)"
      ],
      "metadata": {
        "id": "Mz9_6buIf9BV"
      },
      "execution_count": 45,
      "outputs": []
    },
    {
      "cell_type": "code",
      "source": [
        "\n",
        "import matplotlib.pyplot as plt\n",
        "import seaborn as sns\n",
        "\n",
        "\n",
        "\n",
        "plt.figure(figsize=(8, 6))\n",
        "sns.countplot(data=df11, x='Frailty')\n",
        "plt.title('Bar plot of Frailty counts')\n",
        "plt.xlabel('Frailty')\n",
        "plt.ylabel('Count')\n",
        "plt.show()\n",
        "\n"
      ],
      "metadata": {
        "colab": {
          "base_uri": "https://localhost:8080/",
          "height": 564
        },
        "id": "JEstjP07o8PA",
        "outputId": "f173641b-6df2-4525-efe4-957b37dfc0c9"
      },
      "execution_count": 43,
      "outputs": [
        {
          "output_type": "display_data",
          "data": {
            "text/plain": [
              "<Figure size 800x600 with 1 Axes>"
            ],
            "image/png": "[encoded data removed]"
          },
          "metadata": {}
        }
      ]
    }
  ]
}